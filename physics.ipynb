{
 "cells": [
  {
   "cell_type": "markdown",
   "metadata": {},
   "source": [
    "# things to ~~memorize~~ understand\n",
    "---\n"
   ]
  },
  {
   "cell_type": "markdown",
   "metadata": {},
   "source": [
    "## centerfugl \n",
    " also known as $F = \\frac{mv^2}{r}$ also known as 'the other circular motion'"
   ]
  },
  {
   "cell_type": "markdown",
   "metadata": {},
   "source": [
    "![alt text](Oscillating_pendulum.gif)\n",
    "question, at the bottom, what forcer are acting? which is stronger? how do you know?\n",
    "\n",
    "---"
   ]
  },
  {
   "cell_type": "markdown",
   "metadata": {},
   "source": [
    "# tips and tricks"
   ]
  },
  {
   "cell_type": "markdown",
   "metadata": {},
   "source": [
    "- force over a certian distance is work ,  if you see a spring it's ***probably*** a work problem\n",
    "\n",
    "- force over a certian time is momentum, if you see a collision is a momentum problem (elastic means conserved conetic aswell)\n",
    "---"
   ]
  },
  {
   "cell_type": "markdown",
   "metadata": {},
   "source": [
    "##  spring\n",
    " the potental energy of a spring is $U=\\frac{1}{2} k \\Delta x^{2}$"
   ]
  },
  {
   "cell_type": "markdown",
   "metadata": {},
   "source": [
    "## ossolation, period, and factors involved, \n",
    ">good to have a solid intuition of.\n",
    "\n",
    "#### spring\n",
    "$T_s = 2 \\pi \\sqrt{\\frac{m}{k}}$\n",
    "\n",
    "---\n",
    "#### pendulum\n",
    "$T_p = 2 \\pi \\sqrt{\\frac{l}{g}}$\n",
    "\n",
    "what do these functions tell you about the effect these values have on period?\n"
   ]
  },
  {
   "cell_type": "markdown",
   "metadata": {},
   "source": [
    "## inverting\n",
    "---\n",
    "this is most common in frequency and period, or the odd way some questoins try to tell you spring constant. this is the type of thing to mess you up so be carefull!\n",
    "\n",
    "lets use beats per second as an example \n",
    "\n",
    "\n",
    "###  inverting ($\\frac{b}{s} \\to \\frac{s}{b}$)  to have **half** as much *beats* in one *second* $f$, means twice the *second* inbetween ~~*beets*~~ $\\to$ ossilations $T_p$"
   ]
  },
  {
   "cell_type": "markdown",
   "metadata": {},
   "source": [
    "# doing problems\n",
    "---"
   ]
  },
  {
   "cell_type": "markdown",
   "metadata": {
    "vscode": {
     "languageId": "plaintext"
    }
   },
   "source": [
    "## not ap, but tricky"
   ]
  },
  {
   "cell_type": "markdown",
   "metadata": {},
   "source": [
    "![alt text](<Screenshot 2024-04-21 171855.png>)"
   ]
  },
  {
   "cell_type": "markdown",
   "metadata": {},
   "source": [
    "if the mass is halved, what happens to the distance?\n",
    " #### inital notice\n",
    "- time until ground hit is constant ( Y velot, height, and g are const)\n",
    "- force is constant ($F_s=kd$)"
   ]
  },
  {
   "cell_type": "markdown",
   "metadata": {},
   "source": [
    "##### spring\n",
    "- the spring aplies the same force over the distance to the mass $F=k*d$ when k is spring constant $k=\\frac{N}{m}$"
   ]
  },
  {
   "cell_type": "markdown",
   "metadata": {},
   "source": [
    "### awnser\n",
    "___\n",
    "so now we need to derive velocity (the change in distance over the CONSTANT time) work, and mass\n",
    "\n",
    "$W= F*m$ (work is constant among the two systems)\n",
    "\n",
    "$W = \\frac{1}{2}mv^2$ \n",
    "\n",
    "$\\frac{1}{2}mv^2 = W$\n",
    "\n",
    "$m= \\frac{2W}{v^2} \\to$\n",
    "$v= \\sqrt{\\frac{2W}{m}}$\n",
    "\n",
    "using this we clearly see that if we decrease mass by 2, the velocity increases by <b> $\\sqrt{2}$ </b>\n",
    "\n",
    "####  my error?\n",
    "---\n",
    "constant force\n",
    "$F = kg \\frac{m}{s^2}$\n",
    "\n",
    "$F = kg \\frac{\\frac{m}{s}}{s}$\n",
    "\n",
    "$F*s = kg {\\frac{m}{s}}$\n",
    "\n",
    "$\\frac{F*s}{kg} =  {\\frac{m}{s}}$\n"
   ]
  },
  {
   "cell_type": "markdown",
   "metadata": {},
   "source": [
    "# practice problem"
   ]
  },
  {
   "cell_type": "markdown",
   "metadata": {},
   "source": [
    "![alt text](<Screenshot 2024-04-21 184008.png>)"
   ]
  },
  {
   "cell_type": "markdown",
   "metadata": {},
   "source": [
    "> A cart on a horizontal surface is attached to a spring. The other end of the spring is attached to a wall. The cart is\n",
    "initially held at rest, as shown in Figure 1. When the cart is released, the system consisting of the cart and spring\n",
    "oscillates between the positions x = + L and x = −L. Figure 2 shows the kinetic energy of the cart-spring\n",
    "system as a function of the system’s potential energy. Frictional forces are negligible"
   ]
  },
  {
   "cell_type": "markdown",
   "metadata": {
    "tags": [
     "Law of Conservation of Energy"
    ]
   },
   "source": [
    "## 1.\n",
    ">  (a) On the graph of kinetic energy K versus potential energy U shown in Figure 2, the values for the x-intercept\n",
    "and y-intercept are the same. Briefly explain why this is true, using physics principles\n",
    "\n",
    "The graph has a y intercept of 4, this the same for the x intercept. the graph is linear, this means that Figure 2 gives the information that $x+y=4$ when x and y are potential and kinetic energy respectivly. This alignes with the law of conservation of energy, as this law states that all the energy in a closed system dose not change.\n",
    "> Scoring Note: This point may be earned for only stating “conservation of energy.”\n"
   ]
  },
  {
   "cell_type": "markdown",
   "metadata": {},
   "source": [
    "![b](<Screenshot 2024-04-21 190013.png>)\n",
    ">When the cart is at +L and momentarily at rest, a block is dropped onto the cart, as shown in Figure 3. The block\n",
    "sticks to the cart, and the block-cart-spring system continues to oscillate between −L and +L. The masses of the\n",
    "cart and the block are m0 and 3m0, respectively.\n"
   ]
  },
  {
   "cell_type": "markdown",
   "metadata": {},
   "source": [
    ">(b) The frequency of oscillation before the block is dropped onto the cart is $f_1$.\n",
    " The frequency of oscillation afterthe block is dropped onto the cart is $f_2$.\n",
    "  Calculate the numerical value of the ratio $\\frac{f2}{f1}$.\n",
    "\n",
    "  initially, we know the formula and tbh thats about as fun osilation gets without proportional reasoning"
   ]
  },
  {
   "cell_type": "markdown",
   "metadata": {},
   "source": [
    "#### spring\n",
    "the function for the period of a spring FLIPPED IS EQUAL TO FREQUENCY, REMEMBER FREQUENCY IS Beat Per S AND PERIOD IS S PER Beat\n",
    "- but for now lets just calculate change in period, keeping this in mind and ajusting $f = \\frac{1}{T} $ at the end\n",
    "$$\n",
    "T_s = 2 \\pi \\sqrt{\\frac{m}{k}} \\to f = \\frac{1}{2\\pi} \\sqrt{\\frac{k}{m}}\n",
    "$$\n"
   ]
  },
  {
   "cell_type": "markdown",
   "metadata": {},
   "source": [
    "the new mass is m4, so the new ratio for period is \n",
    "$$\n",
    "\\frac{\\cancel{ 2\\pi} \\sqrt{\\frac{4m}{k}}}{ \\cancel{2 \\pi} \\sqrt{\\frac{m}{k}}} \\to\n",
    "\\frac{ \\sqrt{4\\frac{m}{k}}}{  \\sqrt{\\frac{m}{k}}} \\to\n",
    "\\frac{ 2  \\cancel{\\sqrt{\\frac{m}{k}}}}{ \\cancel {\\sqrt{\\frac{m}{k}}}} \\to\n",
    "\\frac{2}{1}\n",
    "$$\n",
    "convert these to frequency by inverting both (more on inverting in notes) and you have your awnser \n",
    "$$\n",
    "\\frac{\\frac{1}{2}}{\\cancel{\\frac{1}{\\cancel {1}}}} \\to \\frac{1}{2}\n",
    "$$"
   ]
  },
  {
   "cell_type": "markdown",
   "metadata": {},
   "source": [
    " (the image is just figure 2 but with a dashed line)\n",
    ">(c) \n",
    " >> -i Briefly explain why the two graphs must be the same, using physics principles.\n",
    " \n",
    "adding the mass didn't change anything with the energy, so conservation still apply **need to be more clear**\n",
    "\n",
    ">>Accept one of the following:\n",
    "• No work is done on the system\n",
    "• The maximum spring potential energy is the same\n",
    "• The force exerted on the system is perpendicular to the direction of motion\n",
    "\n",
    ">> -ii. After the block is dropped onto the cart, consider a system that consists only of the cart and the spring. On\n",
    "Figure 4, sketch a solid line that shows the kinetic energy of the system that consists of the cart and the\n",
    "spring but not the block after the block is dropped onto the cart.\n",
    "\n",
    "##### general problemsolving\n",
    "- the mass changes from $m \\to 4m$\n",
    "- imagine a subset of this {block,spring,topblock} system. it must have less energy, so thats a start.\n",
    "- dose potential change?\n",
    "- - no! the spring is a part of our sub-set and nothing about it changes, including how far it goes\n",
    "- dose kinetic change?\n",
    "- - Yes! using  $\\frac{1}{2}4mv^2$  and knowing that our sub-set contains 1/4 the mass of the total set we see that we only have 1/4 the kinetic energy of the system! \n",
    "\n",
    "![alt text](<Screenshot 2024-04-21 214726.png>)"
   ]
  },
  {
   "cell_type": "markdown",
   "metadata": {},
   "source": []
  }
 ],
 "metadata": {
  "kernelspec": {
   "display_name": "Python 3",
   "language": "python",
   "name": "python3"
  },
  "language_info": {
   "codemirror_mode": {
    "name": "ipython",
    "version": 3
   },
   "file_extension": ".py",
   "mimetype": "text/x-python",
   "name": "python",
   "nbconvert_exporter": "python",
   "pygments_lexer": "ipython3",
   "version": "3.10.11"
  }
 },
 "nbformat": 4,
 "nbformat_minor": 2
}
