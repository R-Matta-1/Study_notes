{
 "cells": [
  {
   "cell_type": "markdown",
   "metadata": {},
   "source": [
    "# things to ~~memorize~~ understand\n",
    "---\n"
   ]
  },
  {
   "cell_type": "markdown",
   "metadata": {},
   "source": [
    "## centerfugl \n",
    " also known as $F = \\frac{mv^2}{r}$ also known as 'the other circular motion'"
   ]
  },
  {
   "cell_type": "markdown",
   "metadata": {},
   "source": [
    "![alt text](images/Oscillating_pendulum.gif)\n",
    "question, at the bottom, what forcer are acting? which is stronger? how do you know?\n",
    "\n",
    "---"
   ]
  },
  {
   "cell_type": "markdown",
   "metadata": {},
   "source": [
    "# tips and tricks"
   ]
  },
  {
   "cell_type": "markdown",
   "metadata": {},
   "source": [
    "- force over a certian distance is work ,  if you see a spring it's ***probably*** a work problem\n",
    "\n",
    "- force over a certian time is momentum, if you see a collision is a momentum problem (elastic means conserved conetic aswell)\n",
    "---"
   ]
  },
  {
   "cell_type": "markdown",
   "metadata": {},
   "source": [
    "##  spring\n",
    " the potental energy of a spring is $U=\\frac{1}{2} k \\Delta x^{2}$"
   ]
  },
  {
   "cell_type": "markdown",
   "metadata": {},
   "source": [
    "## ossolation, period, and factors involved, \n",
    ">good to have a solid intuition of.\n",
    "\n",
    "$T_s = 2 \\pi \\sqrt{\\frac{m}{k}}$ (refering to a spring)\n",
    "\n",
    "### pendulum\n",
    "$T_p = 2 \\pi \\sqrt{\\frac{l}{g}}$ (refering to a pendulum)\n",
    "\n",
    "what do these functions tell you about the effect these values have on period?\n",
    "\n",
    "note period is not freqeuncy, more about this in 'inverting' but the unit for $T$ perid is $f = T^{-1}$ and $T = f^{-1}$ where f is frequency\n"
   ]
  },
  {
   "cell_type": "markdown",
   "metadata": {},
   "source": [
    "## inverting\n",
    "---\n",
    "this is most common in frequency and period, or the odd way some questoins try to tell you spring constant. this is the type of thing to mess you up so be carefull!\n",
    "\n",
    "lets use beats per second as an example \n",
    "\n",
    "\n",
    "###  inverting ($\\frac{b}{s} \\to \\frac{s}{b}$)  to have **half** as much *beats* in one *second* $f$, means twice the *second* inbetween ~~*beets*~~ $\\to$ ossilations $T_p$"
   ]
  },
  {
   "cell_type": "markdown",
   "metadata": {},
   "source": [
    "# doing problems\n",
    "---"
   ]
  },
  {
   "cell_type": "markdown",
   "metadata": {
    "vscode": {
     "languageId": "plaintext"
    }
   },
   "source": [
    "## not ap, but tricky"
   ]
  },
  {
   "cell_type": "markdown",
   "metadata": {},
   "source": [
    "![alt text](<images/Screenshot 2024-04-21 171855.png>)"
   ]
  },
  {
   "cell_type": "markdown",
   "metadata": {},
   "source": [
    "if the mass is halved, what happens to the distance?\n",
    " #### inital notice\n",
    "- time until ground hit is constant ( Y velot, height, and g are const)\n",
    "- force is constant ($F_s=kd$)"
   ]
  },
  {
   "cell_type": "markdown",
   "metadata": {},
   "source": [
    "##### spring\n",
    "- the spring aplies the same force over the distance to the mass $F=k*d$ when k is spring constant $k=\\frac{N}{m}$"
   ]
  },
  {
   "cell_type": "markdown",
   "metadata": {},
   "source": [
    "### awnser\n",
    "___\n",
    "so now we need to derive velocity (the change in distance over the CONSTANT time) work, and mass\n",
    "\n",
    "$W= F*m$ (work is constant among the two systems)\n",
    "\n",
    "$W = \\frac{1}{2}mv^2$ \n",
    "\n",
    "$\\frac{1}{2}mv^2 = W$\n",
    "\n",
    "$m= \\frac{2W}{v^2} \\to$\n",
    "$v= \\sqrt{\\frac{2W}{m}}$\n",
    "\n",
    "using this we clearly see that if we decrease mass by 2, the velocity increases by <b> $\\sqrt{2}$ </b>\n",
    "\n",
    "####  my error?\n",
    "---\n",
    "constant force\n",
    "$F = kg \\frac{m}{s^2}$\n",
    "\n",
    "$F = kg \\frac{\\frac{m}{s}}{s}$\n",
    "\n",
    "$F*s = kg {\\frac{m}{s}}$\n",
    "\n",
    "$\\frac{F*s}{kg} =  {\\frac{m}{s}}$\n"
   ]
  },
  {
   "cell_type": "markdown",
   "metadata": {},
   "source": [
    "# practice problem"
   ]
  },
  {
   "cell_type": "markdown",
   "metadata": {},
   "source": [
    "![alt text](<images/Screenshot 2024-04-21 184008.png>)"
   ]
  },
  {
   "cell_type": "markdown",
   "metadata": {},
   "source": [
    "> A cart on a horizontal surface is attached to a spring. The other end of the spring is attached to a wall. The cart is\n",
    "initially held at rest, as shown in Figure 1. When the cart is released, the system consisting of the cart and spring\n",
    "oscillates between the positions x = + L and x = −L. Figure 2 shows the kinetic energy of the cart-spring\n",
    "system as a function of the system’s potential energy. Frictional forces are negligible"
   ]
  },
  {
   "cell_type": "markdown",
   "metadata": {},
   "source": [
    "[the pdf im using](https://apcentral.collegeboard.org/media/pdf/ap23-frq-physics-1.pdf)"
   ]
  },
  {
   "cell_type": "markdown",
   "metadata": {
    "tags": [
     "Law of Conservation of Energy"
    ]
   },
   "source": [
    "## 1.\n",
    ">  (a) On the graph of kinetic energy K versus potential energy U shown in Figure 2, the values for the x-intercept\n",
    "and y-intercept are the same. Briefly explain why this is true, using physics principles\n",
    "\n",
    "The graph has a y intercept of 4, this the same for the x intercept. the graph is linear, this means that Figure 2 gives the information that $x+y=4$ when x and y are potential and kinetic energy respectivly. This alignes with the law of conservation of energy, as this law states that all the energy in a closed system dose not change.\n",
    "> Scoring Note: This point may be earned for only stating “conservation of energy.”\n"
   ]
  },
  {
   "cell_type": "markdown",
   "metadata": {},
   "source": [
    "![b](<images/Screenshot 2024-04-21 190013.png>)\n",
    ">When the cart is at +L and momentarily at rest, a block is dropped onto the cart, as shown in Figure 3. The block\n",
    "sticks to the cart, and the block-cart-spring system continues to oscillate between −L and +L. The masses of the\n",
    "cart and the block are m0 and 3m0, respectively.\n"
   ]
  },
  {
   "cell_type": "markdown",
   "metadata": {},
   "source": [
    ">(b) The frequency of oscillation before the block is dropped onto the cart is $f_1$.\n",
    " The frequency of oscillation afterthe block is dropped onto the cart is $f_2$.\n",
    "  Calculate the numerical value of the ratio $\\frac{f2}{f1}$.\n",
    "\n",
    "  initially, we know the formula and tbh thats about as fun osilation gets without proportional reasoning"
   ]
  },
  {
   "cell_type": "markdown",
   "metadata": {},
   "source": [
    "#### spring\n",
    "the function for the period of a spring FLIPPED IS EQUAL TO FREQUENCY, REMEMBER FREQUENCY IS Beat Per S AND PERIOD IS S PER Beat\n",
    "- but for now lets just calculate change in period, keeping this in mind and ajusting $f = \\frac{1}{T} $ at the end\n",
    "$$\n",
    "T_s = 2 \\pi \\sqrt{\\frac{m}{k}} \\to f = \\frac{1}{2\\pi} \\sqrt{\\frac{k}{m}}\n",
    "$$\n"
   ]
  },
  {
   "cell_type": "markdown",
   "metadata": {},
   "source": [
    "the new mass is m4, so the new ratio for period is \n",
    "$$\n",
    "\\frac{\\cancel{ 2\\pi} \\sqrt{\\frac{4m}{k}}}{ \\cancel{2 \\pi} \\sqrt{\\frac{m}{k}}} \\to\n",
    "\\frac{ \\sqrt{4\\frac{m}{k}}}{  \\sqrt{\\frac{m}{k}}} \\to\n",
    "\\frac{ 2  \\cancel{\\sqrt{\\frac{m}{k}}}}{ \\cancel {\\sqrt{\\frac{m}{k}}}} \\to\n",
    "\\frac{2}{1}\n",
    "$$\n",
    "convert these to frequency by inverting both (more on inverting in notes) and you have your awnser \n",
    "$$\n",
    "\\frac{\\frac{1}{2}}{\\cancel{\\frac{1}{\\cancel {1}}}} \\to \\frac{1}{2}\n",
    "$$"
   ]
  },
  {
   "cell_type": "markdown",
   "metadata": {},
   "source": [
    " (the image is just figure 2 but with a dashed line)\n",
    ">(c) \n",
    " >> -i Briefly explain why the two graphs must be the same, using physics principles.\n",
    " \n",
    "adding the mass didn't change anything with the energy, so conservation still apply **need to be more clear**\n",
    "\n",
    ">>Accept one of the following:\n",
    "• No work is done on the system\n",
    "• The maximum spring potential energy is the same\n",
    "• The force exerted on the system is perpendicular to the direction of motion\n",
    "\n",
    ">> -ii. After the block is dropped onto the cart, consider a system that consists only of the cart and the spring. On\n",
    "Figure 4, sketch a solid line that shows the kinetic energy of the system that consists of the cart and the\n",
    "spring but not the block after the block is dropped onto the cart.\n",
    "\n",
    "##### general problemsolving\n",
    "- the mass changes from $m \\to 4m$\n",
    "- imagine a subset of this {block,spring,topblock} system. it must have less energy, so thats a start.\n",
    "- dose potential change?\n",
    "- - no! the spring is a part of our sub-set and nothing about it changes, including how far it goes\n",
    "- dose kinetic change?\n",
    "- - Yes! using  $\\frac{1}{2}4mv^2$  and knowing that our sub-set contains 1/4 the mass of the total set we see that we only have 1/4 the kinetic energy of the system! \n",
    "\n",
    "![alt text](<images/Screenshot 2024-04-21 214726.png>)"
   ]
  },
  {
   "cell_type": "markdown",
   "metadata": {},
   "source": [
    "---"
   ]
  },
  {
   "cell_type": "markdown",
   "metadata": {},
   "source": [
    "# 2"
   ]
  },
  {
   "cell_type": "markdown",
   "metadata": {},
   "source": [
    "![q2](<images/Screenshot 2024-04-24 203446.png>)"
   ]
  },
  {
   "cell_type": "markdown",
   "metadata": {},
   "source": [
    "> (a) Students conduct an experiment to determine the acceleration a of a cart. The cart is released from rest at the\n",
    "top of the ramp at time t = 0 and moves down the ramp. The x-axis is defined to be parallel to the ramp with\n",
    "its origin at the top, as shown in the figure. The students collect the data shown in the following table"
   ]
  },
  {
   "cell_type": "markdown",
   "metadata": {},
   "source": [
    "![tableq2](<images/Screenshot 2024-04-24 203727.png>)"
   ]
  },
  {
   "cell_type": "markdown",
   "metadata": {},
   "source": [
    "> i. Indicate which quantities could be graphed to yield a straight line whose slope could be used to determine\n",
    "the acceleration a of the cart. You may use the remaining columns in the table, as needed, to record any\n",
    "quantities (including units) that are not already in the table.\n",
    "Vertical axis: ___?_____ Horizontal axis: __?________"
   ]
  },
  {
   "cell_type": "markdown",
   "metadata": {},
   "source": [
    "ok, at first everyone thinks 'hmmm, linear, can derive aceleration, can be found from pos & time' and goes, ill to ALL the calculatom to get velocity. this is fine, even listed as a valid solution, but let's think. "
   ]
  },
  {
   "cell_type": "markdown",
   "metadata": {},
   "source": [
    "### velocity when constant\n",
    "\n",
    "thier are two ways to go about this \n",
    "1. $\\frac{\\Delta m}{\\Delta s}$\n",
    "that is to say, for every point; go to the one before, find change in BOTH values, devide them... a bit time consuming.\n",
    "(and 2 is the college board way)\n",
    "2. (somthing, somthing, derivative of somthing) \n",
    "that is to say just graph position and time SQUARED\n",
    "\n",
    "Vertical axis: $x$ \n",
    "\n",
    "Horizontal axis: $t^2$"
   ]
  },
  {
   "cell_type": "markdown",
   "metadata": {},
   "source": [
    "then you graph it,  that finishes A"
   ]
  },
  {
   "cell_type": "markdown",
   "metadata": {},
   "source": [
    ">(b) The students are asked to determine an experimental value for the acceleration due to gravity gexp using their\n",
    "data"
   ]
  },
  {
   "cell_type": "markdown",
   "metadata": {},
   "source": [
    "> i. What additional quantities do the students need to measure in order to calculate gexp\n",
    "from a ?"
   ]
  },
  {
   "cell_type": "markdown",
   "metadata": {},
   "source": [
    "uhh how my my aceleration different from g? hm, lets look our notes if you forgot how grav works on a slope![slopn n' slacken](slopePhys.jpg) (no friction) don't know bout you, im drawing this on the paper first chance I get"
   ]
  },
  {
   "cell_type": "markdown",
   "metadata": {},
   "source": []
  },
  {
   "cell_type": "markdown",
   "metadata": {},
   "source": [
    "huh, kinda looks like the cos value is canceled,(remember it is important to friction but not now) so i need sin and theta, my awns is theta, you neeed theta ti fin g experetbly\n"
   ]
  },
  {
   "cell_type": "markdown",
   "metadata": {},
   "source": [
    "> now write an expression for the cvalue $g_{exp}$ in terms of $a$\n",
    "\n",
    "fine, it's klike 11 rn but ok ig\n",
    "$$\n",
    "\\cancel {m}g \\sin \\theta = \\cancel{m} a \\to g = \\frac{a}{\\sin \\theta}\n",
    "$$"
   ]
  },
  {
   "cell_type": "markdown",
   "metadata": {},
   "source": [
    "> (c) The students calculate the value of gexp to be significantly lower than the accepted value of 2 9.8 m/s .\n",
    "i. What is a physical reason, other than friction or air resistance, that could lead to a significant difference in\n",
    "the experimentally determined value of gexp\n",
    "?\n",
    "\n",
    ">()ii. whatever u just awnsered, explain it more (say if this go up what happen to g)\n",
    "\n",
    "\n",
    "saying 'human error' is a coppout, Clark knows it, they know it, don't say that. umm, somthing about the wheles spinning, in the beginnig oh phys would ignore that but know we know, more intertia to the wjerels, slower the cart (or say the whole thing was secretly on an elevator, I don't care)"
   ]
  },
  {
   "cell_type": "markdown",
   "metadata": {},
   "source": [
    "![alt text](<images/Screenshot 2024-04-24 220905.png>)"
   ]
  },
  {
   "cell_type": "markdown",
   "metadata": {},
   "source": [
    "the slope of the  pt graph is the vt graph, so less slope as the vt aproches 0.\n",
    "\n",
    "\n",
    "and the vt goes from bringing us closer to the origin (or subtracting distance ) and not moving  "
   ]
  }
 ],
 "metadata": {
  "kernelspec": {
   "display_name": "Python 3",
   "language": "python",
   "name": "python3"
  },
  "language_info": {
   "codemirror_mode": {
    "name": "ipython",
    "version": 3
   },
   "file_extension": ".py",
   "mimetype": "text/x-python",
   "name": "python",
   "nbconvert_exporter": "python",
   "pygments_lexer": "ipython3",
   "version": "3.10.11"
  }
 },
 "nbformat": 4,
 "nbformat_minor": 2
}
