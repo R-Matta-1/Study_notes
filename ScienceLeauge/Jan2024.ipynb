{
 "cells": [
  {
   "cell_type": "markdown",
   "metadata": {},
   "source": [
    "## Q.4\n",
    "![alt text](<images/Screenshot 2024-12-12 12.22.25 PM.png>)\n",
    "\n",
    "$$\n",
    "F_1= 300\\\\ \n",
    "\\text{pressure under the oil is constant at all points} \\\\\n",
    "p_1 = \\frac{f_1}{a_1} \\\\\n",
    "p_2 = \\frac{f_2}{a_2}   \\\\\n",
    "p_2 = p_1   \\\\\n",
    "p_1 = \\frac{f_2}{a_2}   \\\\\n",
    "f_2 = p_1a_2    \\\\\n",
    "a_1 = 3^2\\pi        \\\\\n",
    "a_2 = 30^2\\pi   \\\\\n",
    "$$"
   ]
  },
  {
   "cell_type": "markdown",
   "metadata": {},
   "source": [
    "# 16-18\n",
    "16. C: $T = pv$ \n",
    "17. B: positive work compresion\n",
    "18. D: temp stayed the same, isothermal\n",
    "\n"
   ]
  },
  {
   "cell_type": "markdown",
   "metadata": {},
   "source": []
  },
  {
   "cell_type": "markdown",
   "metadata": {},
   "source": [
    "# 22-25\n",
    "- 22.\n",
    "    $V = h\\pi4^2$\n",
    "    "
   ]
  },
  {
   "cell_type": "code",
   "execution_count": null,
   "metadata": {
    "vscode": {
     "languageId": "plaintext"
    }
   },
   "outputs": [],
   "source": [
    "dd"
   ]
  }
 ],
 "metadata": {
  "language_info": {
   "name": "python"
  }
 },
 "nbformat": 4,
 "nbformat_minor": 2
}
