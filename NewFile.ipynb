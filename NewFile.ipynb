{
 "cells": [
  {
   "cell_type": "markdown",
   "metadata": {},
   "source": [
    "## period & frequency\n",
    "\n",
    "- period ($T$) is the time between ossilations\n",
    "- frequency ($Hrz$) is the ossilations over time\n",
    "\n",
    "$T = f^{-1}$\n",
    "\n",
    "$f= T^{-1}$"
   ]
  },
  {
   "cell_type": "markdown",
   "metadata": {},
   "source": [
    "# spring\n",
    "$$T_s = 2\\pi \\sqrt \\frac mk$$\n",
    "$$  f= \\frac{1}{2\\pi} \\sqrt \\frac km$$"
   ]
  },
  {
   "cell_type": "markdown",
   "metadata": {},
   "source": [
    "# pendulum\n",
    "$$T_s = 2\\pi \\sqrt \\frac lg$$\n",
    "$$  f= \\frac{1}{2\\pi} \\sqrt \\frac gl$$\n"
   ]
  },
  {
   "cell_type": "markdown",
   "metadata": {},
   "source": [
    "in (both) of the physics aviary problems you are given mass & period so you solve for spring constant.\n",
    "- in the first one use the timer over 10 ossilations, dvide the result by 10.\n",
    "- for the second one, period is the space between the peaks (or center*2 if you're a nerd)\n",
    "\n",
    "then you solve for spring const\n",
    "$$\n",
    "T = 2\\pi \\sqrt \\frac mk \\to \\frac {T}{2\\pi} = \\sqrt \\frac mk \\to  \\frac {T^2}{4\\pi^2} =  \\frac mk \\to k=  \\frac{m4\\pi^2}{T^2}\n",
    "$$\n"
   ]
  },
  {
   "cell_type": "markdown",
   "metadata": {},
   "source": [
    "[here is an example](https://www.desmos.com/calculator/tj4fblzf6x)"
   ]
  }
 ],
 "metadata": {
  "language_info": {
   "name": "python"
  }
 },
 "nbformat": 4,
 "nbformat_minor": 2
}
