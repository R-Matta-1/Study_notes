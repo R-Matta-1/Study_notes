{
 "cells": [
  {
   "cell_type": "markdown",
   "metadata": {},
   "source": [
    "# doing problems\n",
    "---"
   ]
  },
  {
   "cell_type": "markdown",
   "metadata": {},
   "source": [
    "# the 4/30 in class problems reflection\n",
    "\n",
    "- umm, thought I would do better, let's go over graph literacy and proportional analasis in terms of the relation of momentum and kinetic energy\n",
    "\n",
    "## graph literacy\n",
    "\n",
    "### general rules\n",
    "\n",
    "1. to devide units like in Pt $\\to$ Vt graph, you find the slope or \"Derivative\" $\\frac{df}{dx}$ $f'(x)$\n",
    "2. to multiplt units like \"force time\" $\\to$ impulse or Vt $\\to$ Pt graphs find the area under the graph or Integral $\\int_{\\text{lowerLimit}}^{\\text{UpperLimit}}$\n",
    "\n",
    "### one of the two graphs was U(g) vs. x position\n",
    "\n",
    "![alt text](<images/Screenshot 2024-04-30 2.39.55 PM.png>)\n",
    "we don't have that graph because I'm not milo but this one is good to analize\n",
    "\n",
    "\n",
    "so, if potential energy is $U = mgh$ and mass and g are constant, and h is y position, then, this is just a squished or streched version of a y position v x position graph ... just think about that. y position on the y axis and x position on the x axis.. \n",
    "\n",
    "*it was literally a graph of a still image that was a platoform a ball could roll on*\n",
    "\n",
    "and i think thats kinda funny, to awner some of those questions,\n",
    "1. if we asume thier is ONLY potential energy at the highest point, then the difference from current point to highest point must be all other energy (kinetic)\n",
    "2. more force is aplied at the highest slope because less of the $F_g$ is cancled by an $F_n$ (if u get the  y V. x  graph thing)\n",
    "\n",
    "\n",
    "### other graph.\n",
    "\n",
    "tbh the other graph was a question I get wrong, didn't read well, thats on me, thats on me, confused by units\n",
    "\n",
    "### proportiaonl reasoning\n",
    "i do alot of it scattered around these files because it is IMPORTANT\n",
    "\n",
    "> thier is an eplosion (same impulse) to one person of mass m and another of mass 2m, whats the kinetic of big one in terms of other?\n",
    "\n",
    "$P_1=m_1 v_1$ (Def Of Momentum)\n",
    "\n",
    "$P_2= P_1$ (both momentum the same)\n",
    "\n",
    "$P_1=2m_1 \\frac {v_1}2$ (if mass double velocity half to keep P const)\n",
    "\n",
    "now the half in the kinetic energy formula made alot of people mess up like this \n",
    "$$\n",
    "K = \\frac 12 2 \\frac 1{2^2} \\to\\to\\to \\frac 14\n",
    "$$\n",
    "but intuitivly we know her kinetic also had that half, remember in proportional analis turn EVERY value like that into 1\n"
   ]
  },
  {
   "cell_type": "markdown",
   "metadata": {},
   "source": [
    "## Jersy Sure: \n",
    "dificult because of the wierd conversion, and use of modulous operator.\n",
    "\n",
    "it's a worrying problem because you get rads and you need to do all that conversion to get to an imaginary unit thats defined as rotation*36.\n",
    "then thiers needing to use modulous, wierd operation.\n",
    "``` js\n",
    " awnser = (Xi, Vi,a) => {\n",
    "    Vi = (Vi *2*Math.PI) / 60 // RPM to rads/s\n",
    "    t = Vi / a\n",
    "    \n",
    "    AngularDist = .5* a* (t**2) // (**) means squared, using 1/2 at^2\n",
    "    \n",
    "    RPSdist = AngularDist / (2*Math.PI)\n",
    "\n",
    "    NotchDist = RPSdist *36\n",
    "\n",
    "    return (NotchDist + Xi) % 36  // using the % (modulous)sign means remainder\n",
    "    \n",
    "}\n",
    "```"
   ]
  },
  {
   "cell_type": "markdown",
   "metadata": {
    "vscode": {
     "languageId": "plaintext"
    }
   },
   "source": [
    "## not ap, but tricky"
   ]
  },
  {
   "cell_type": "markdown",
   "metadata": {},
   "source": [
    "![alt text](<images/Screenshot 2024-04-21 171855.png>)"
   ]
  },
  {
   "cell_type": "markdown",
   "metadata": {},
   "source": [
    "if the mass is halved, what happens to the distance?\n",
    " #### inital notice\n",
    "- time until ground hit is constant ( Y velot, height, and g are const)\n",
    "- force is constant ($F_s=kd$)"
   ]
  },
  {
   "cell_type": "markdown",
   "metadata": {},
   "source": [
    "##### spring\n",
    "- the spring aplies the same force over the distance to the mass $F=k*d$ when k is spring constant $k=\\frac{N}{m}$"
   ]
  },
  {
   "cell_type": "markdown",
   "metadata": {},
   "source": [
    "### awnser\n",
    "___\n",
    "so now we need to derive velocity (the change in distance over the CONSTANT time) work, and mass\n",
    "\n",
    "$W= F*m$ (work is constant among the two systems)\n",
    "\n",
    "$W = \\frac{1}{2}mv^2$ \n",
    "\n",
    "$\\frac{1}{2}mv^2 = W$\n",
    "\n",
    "$m= \\frac{2W}{v^2} \\to$\n",
    "$v= \\sqrt{\\frac{2W}{m}}$\n",
    "\n",
    "using this we clearly see that if we decrease mass by 2, the velocity increases by <b> $\\sqrt{2}$ </b>\n",
    "\n",
    "###  my error?\n",
    "\n",
    "constant force\n",
    "$F = kg \\frac{m}{s^2}$\n",
    "\n",
    "$F = kg \\frac{\\frac{m}{s}}{s}$\n",
    "\n",
    "$F*s = kg {\\frac{m}{s}}$\n",
    "\n",
    "$\\frac{F*s}{kg} =  {\\frac{m}{s}}$\n",
    "\n",
    "---"
   ]
  },
  {
   "cell_type": "markdown",
   "metadata": {},
   "source": [
    "# practice problem"
   ]
  },
  {
   "cell_type": "markdown",
   "metadata": {},
   "source": [
    "![alt text](<images/Screenshot 2024-04-21 184008.png>)"
   ]
  },
  {
   "cell_type": "markdown",
   "metadata": {},
   "source": [
    "> A cart on a horizontal surface is attached to a spring. The other end of the spring is attached to a wall. The cart is\n",
    "initially held at rest, as shown in Figure 1. When the cart is released, the system consisting of the cart and spring\n",
    "oscillates between the positions x = + L and x = −L. Figure 2 shows the kinetic energy of the cart-spring\n",
    "system as a function of the system’s potential energy. Frictional forces are negligible"
   ]
  },
  {
   "cell_type": "markdown",
   "metadata": {},
   "source": [
    "[the pdf im using](https://apcentral.collegeboard.org/media/pdf/ap23-frq-physics-1.pdf)"
   ]
  },
  {
   "cell_type": "markdown",
   "metadata": {
    "tags": [
     "Law of Conservation of Energy"
    ]
   },
   "source": [
    "## 1.\n",
    ">  (a) On the graph of kinetic energy K versus potential energy U shown in Figure 2, the values for the x-intercept\n",
    "and y-intercept are the same. Briefly explain why this is true, using physics principles\n",
    "\n",
    "The graph has a y intercept of 4, this the same for the x intercept. the graph is linear, this means that Figure 2 gives the information that $x+y=4$ when x and y are potential and kinetic energy respectivly. This alignes with the law of conservation of energy, as this law states that all the energy in a closed system dose not change.\n",
    "> Scoring Note: This point may be earned for only stating “conservation of energy.”\n"
   ]
  },
  {
   "cell_type": "markdown",
   "metadata": {},
   "source": [
    "![b](<images/Screenshot 2024-04-21 190013.png>)\n",
    ">When the cart is at +L and momentarily at rest, a block is dropped onto the cart, as shown in Figure 3. The block\n",
    "sticks to the cart, and the block-cart-spring system continues to oscillate between −L and +L. The masses of the\n",
    "cart and the block are m0 and 3m0, respectively.\n"
   ]
  },
  {
   "cell_type": "markdown",
   "metadata": {},
   "source": [
    ">(b) The frequency of oscillation before the block is dropped onto the cart is $f_1$.\n",
    " The frequency of oscillation afterthe block is dropped onto the cart is $f_2$.\n",
    "  Calculate the numerical value of the ratio $\\frac{f2}{f1}$.\n",
    "\n",
    "  initially, we know the formula and tbh thats about as fun osilation gets without proportional reasoning"
   ]
  },
  {
   "cell_type": "markdown",
   "metadata": {},
   "source": [
    "#### spring\n",
    "the function for the period of a spring FLIPPED IS EQUAL TO FREQUENCY, REMEMBER FREQUENCY IS Beat Per S AND PERIOD IS S PER Beat\n",
    "- but for now lets just calculate change in period, keeping this in mind and ajusting $f = \\frac{1}{T} $ at the end\n",
    "$$\n",
    "T_s = 2 \\pi \\sqrt{\\frac{m}{k}} \\to f = \\frac{1}{2\\pi} \\sqrt{\\frac{k}{m}}\n",
    "$$\n"
   ]
  },
  {
   "cell_type": "markdown",
   "metadata": {},
   "source": [
    "#### note: you could also do the (turn everything to one) thing\n"
   ]
  },
  {
   "cell_type": "markdown",
   "metadata": {},
   "source": [
    "the new mass is m4, so the new ratio for period is \n",
    "$$\n",
    "\\frac{\\cancel{ 2\\pi} \\sqrt{\\frac{4m}{k}}}{ \\cancel{2 \\pi} \\sqrt{\\frac{m}{k}}} \\to\n",
    "\\frac{ \\sqrt{4\\frac{m}{k}}}{  \\sqrt{\\frac{m}{k}}} \\to\n",
    "\\frac{ 2  \\cancel{\\sqrt{\\frac{m}{k}}}}{ \\cancel {\\sqrt{\\frac{m}{k}}}} \\to\n",
    "\\frac{2}{1}\n",
    "$$\n",
    "convert these to frequency by inverting both (more on inverting in notes) and you have your awnser \n",
    "$$\n",
    "{(\\frac{2}{1})}^{-1} \\to \\frac{1}{2}\n",
    "$$"
   ]
  },
  {
   "cell_type": "markdown",
   "metadata": {},
   "source": [
    " (the image is just figure 2 but with a dashed line)\n",
    ">(c) \n",
    " >> -i Briefly explain why the two graphs must be the same, using physics principles.\n",
    " \n",
    "adding the mass didn't change anything with the energy, so conservation still apply **need to be more clear**\n",
    "\n",
    ">>Accept one of the following:\n",
    "• No work is done on the system\n",
    "• The maximum spring potential energy is the same\n",
    "• The force exerted on the system is perpendicular to the direction of motion\n",
    "\n",
    ">> -ii. After the block is dropped onto the cart, consider a system that consists only of the cart and the spring. On\n",
    "Figure 4, sketch a solid line that shows the kinetic energy of the system that consists of the cart and the\n",
    "spring but not the block after the block is dropped onto the cart.\n",
    "\n",
    "##### general problemsolving\n",
    "- the mass changes from $m \\to 4m$\n",
    "- imagine a subset of this {block,spring,topblock} system. it must have less energy, so thats a start.\n",
    "- dose potential change?\n",
    "- - no! the spring is a part of our sub-set and nothing about it changes, including how far it goes\n",
    "- dose kinetic change?\n",
    "- - Yes! using  $\\frac{1}{2}4mv^2$  and knowing that our sub-set contains 1/4 the mass of the total set we see that we only have 1/4 the kinetic energy of the system! \n",
    "\n",
    "![alt text](<images/Screenshot 2024-04-21 214726.png>)"
   ]
  },
  {
   "cell_type": "markdown",
   "metadata": {},
   "source": [
    "---"
   ]
  },
  {
   "cell_type": "markdown",
   "metadata": {},
   "source": [
    "# 2"
   ]
  },
  {
   "cell_type": "markdown",
   "metadata": {},
   "source": [
    "![q2](<images/Screenshot 2024-04-24 203446.png>)"
   ]
  },
  {
   "cell_type": "markdown",
   "metadata": {},
   "source": [
    "> (a) Students conduct an experiment to determine the acceleration a of a cart. The cart is released from rest at the\n",
    "top of the ramp at time t = 0 and moves down the ramp. The x-axis is defined to be parallel to the ramp with\n",
    "its origin at the top, as shown in the figure. The students collect the data shown in the following table"
   ]
  },
  {
   "cell_type": "markdown",
   "metadata": {},
   "source": [
    "![tableq2](<images/Screenshot 2024-04-24 203727.png>)"
   ]
  },
  {
   "cell_type": "markdown",
   "metadata": {},
   "source": [
    "> i. Indicate which quantities could be graphed to yield a straight line whose slope could be used to determine\n",
    "the acceleration a of the cart. You may use the remaining columns in the table, as needed, to record any\n",
    "quantities (including units) that are not already in the table.\n",
    "Vertical axis: ___?_____ Horizontal axis: __?________"
   ]
  },
  {
   "cell_type": "markdown",
   "metadata": {},
   "source": [
    "ok, at first everyone thinks 'hmmm, linear, can derive aceleration, can be found from pos & time' and goes, ill to ALL the calculatom to get velocity. this is fine, even listed as a valid solution, but let's think. "
   ]
  },
  {
   "cell_type": "markdown",
   "metadata": {},
   "source": [
    "### velocity when constant\n",
    "\n",
    "### hier are two ways to go about this \n",
    "1. $\\frac{\\Delta m}{\\Delta s} =v$\n",
    "that is to say, for every point; go to the one before, find change in BOTH values, devide them... a bit time consuming.\n",
    "(and not is the college board way)\n",
    "2. (somthing, somthing, derivative of somthing) \n",
    "that is to say just graph position and time SQUARED\n",
    "\n",
    "Vertical axis: $x$ \n",
    "\n",
    "Horizontal axis: $t^2$\n",
    "\n",
    "---\n"
   ]
  },
  {
   "cell_type": "markdown",
   "metadata": {},
   "source": [
    "then you graph it,  that finishes A"
   ]
  },
  {
   "cell_type": "markdown",
   "metadata": {},
   "source": [
    ">(b) The students are asked to determine an experimental value for the acceleration due to gravity $g_{exp}$ using their\n",
    "data![alt text](images/slopePhys.jpg)"
   ]
  },
  {
   "cell_type": "markdown",
   "metadata": {},
   "source": [
    "> i. What additional quantities do the students need to measure in order to calculate gexp\n",
    "from a ?"
   ]
  },
  {
   "cell_type": "markdown",
   "metadata": {},
   "source": [
    "uhh how my my aceleration different from g? hm, lets look our notes if you forgot how grav works on a slope! [imageNotHere](images/slopePhys.jpg) (no friction) don't know bout you, im drawing this on the paper first chance I get"
   ]
  },
  {
   "cell_type": "markdown",
   "metadata": {},
   "source": [
    "huh, kinda looks like the cos value is canceled,(remember it is important to friction but not now) so i need sin and theta, my awns is theta, you neeed theta ti fin g experetbly\n"
   ]
  },
  {
   "cell_type": "markdown",
   "metadata": {},
   "source": [
    "> now write an expression for the cvalue $g_{exp}$ in terms of $a$\n",
    "\n",
    "fine, it's klike 11 rn but ok ig\n",
    "$$\n",
    "\\cancel {m}g \\sin \\theta = \\cancel{m} a \\to g = \\frac{a}{\\sin \\theta}\n",
    "$$"
   ]
  },
  {
   "cell_type": "markdown",
   "metadata": {},
   "source": [
    "> (c) The students calculate the value of gexp to be significantly lower than the accepted value of 2 9.8 m/s .\n",
    "i. What is a physical reason, other than friction or air resistance, that could lead to a significant difference in\n",
    "the experimentally determined value of gexp\n",
    "?\n",
    "\n",
    ">()ii. whatever u just awnsered, explain it more (say if this go up what happen to g)\n",
    "\n",
    "\n",
    "saying 'human error' is a coppout, Clark knows it, they know it, don't say that. umm, somthing about the wheles spinning, in the beginnig oh phys would ignore that but know we know, more intertia to the wjerels, slower the cart (or say the whole thing was secretly on an elevator, I don't care)"
   ]
  },
  {
   "cell_type": "markdown",
   "metadata": {},
   "source": [
    "![alt text](<images/Screenshot 2024-04-24 220905.png>)"
   ]
  },
  {
   "cell_type": "markdown",
   "metadata": {},
   "source": [
    "the slope of the  pt graph is the vt graph, so less slope as the vt aproches 0.\n",
    "\n",
    "\n",
    "and the vt goes from bringing us closer to the origin (or subtracting distance ) and not moving  \n",
    "\n",
    "---"
   ]
  },
  {
   "cell_type": "markdown",
   "metadata": {},
   "source": [
    "> A small block of mass m0 is attached to the end of a spring of spring constant k0 that is attached to a rod on a horizontal table. The rod is attached to a motor so that the rod can rotate at various speeds about its axis. When the rod is not rotating, the block is at rest and the spring is at its unstretched length L, as shown. All frictional forces are negligible.\n",
    "![alt text](<images/Screenshot 2024-04-26 9.17.57 AM.png>)\n",
    "> (a) At time t = t 1, the rod is spinning such that the block moves in a circular path with a constant tangential speed v1 and the spring is stretched a distance d1 from the spring’s unstretched length, as shown in Figure . 1 At time t = t2, the rod is spinning such that the block moves in a circular path with a constant tangential speed v2 and the spring is stretched a distance d2 from the spring’s unstretched length, where d > d12 , as shown in Figure 2."
   ]
  },
  {
   "cell_type": "markdown",
   "metadata": {},
   "source": [
    ">(i). On the following dots, which represent the block at the locations shown in Figure 1 and Figure 2, draw the force that is exerted on the block by the spring at times t = t 1 and t = t2. The spring force must be represented by a distinct arrow starting on, and pointing away from, the dot. Note: Draw the relative lengths of the vectors to reflect the relative magnitudes of the forces exerted by the spring at both times.\n",
    "\n",
    "thier is only one force, centrigital $F=\\frac{mv^2}{r} $ BUT we are not looking at thatbecasue of the spring, spring force is $F_s=kx$, x go up, force go up\n",
    "![alt text](<images/Screenshot 2024-04-26 9.28.16 AM.png>) thier's also the intuition 'spin faster make spring go out more'\n",
    "\n",
    ">iii. Is the tangential speed v1 of the block at time t = t 1 greater than, less than, or equal to the tangential speed v2 of the block at time t = t2 ?\n",
    " _____ $v_1$ > $v_2$; XX ****$v_1$ < $v_2$****; _____ $v_1$ = $v_2$\n",
    "\n",
    " going back to $F=\\frac{mv^2}{r}$ mass dose not change , force go up, and radius go up, meaning velocity must go up \n",
    "\n",
    "$$\\uparrow F=\\frac{\\underline{m}v^2}{\\uparrow r} \\to v = \\sqrt{\\frac{Fr\\uparrow \\uparrow}{\\underline m}}$$\n",
    "\n",
    "## note that worried milo\n",
    "---\n",
    "he said 'what if they cancel out' what if the increase in radius and force cancel???? because when radius increaces force decreaces.\n",
    "#### solution\n",
    "we KNOW that radius increaces because WE ARE TOLD the radius dose,we know force increaces due to $F_s = kx$, these are given, imutable\n",
    "\n",
    "\n",
    "---\n",
    "\n",
    ">(b) Consider a scenario where the block travels in a circular path where the spring is stretched a distance d from its unstretched length L. \n",
    "i. Determine an expression for the magnitude of the net force Fnet exerted on the block. Express your answer in terms of m0, k0, L, d, and fundamental constants, as appropriate.\n",
    "\n",
    "\n",
    "---\n"
   ]
  },
  {
   "cell_type": "markdown",
   "metadata": {},
   "source": [
    "[do next](https://apcentral.collegeboard.org/media/pdf/ap-2020exam-sample-questions-physics-1.pdf)\n",
    "\n",
    "![alt text](<images/Screenshot 2024-04-28 204932.png>)\n",
    "\n",
    ">Student 1: None of the forces exerted on the sphere are in the direction of\n",
    "point C, the center of the circular path. Therefore, I don’t see how there can\n",
    "be a centripetal force exerted on the sphere to make it move in a circle. \n",
    "\n",
    ">Student 2: I see another problem. The tension force exerted by the string is\n",
    "at an angle from the vertical. Therefore, its vertical component must be\n",
    "less than the weight Mg of the sphere. That means the net force on the\n",
    "sphere has a downward vertical component, and the sphere should move\n",
    "downward as well as moving around in a circle.\n",
    "\n",
    ">(a) What is one aspect of Student 1’s reasoning that is incorrect? Explain why.\n",
    "\n",
    "while he is correct that thier is no one centripital force, he is oncorect stating that thier needs to be a sole centripital force as only the $F_{net}$ has to act as centeripital\n",
    "\n",
    ">(b) What is one aspect of Student 2’s reasoning that is incorrect? Explain why\n",
    "the fact that thier is no horizontal \n",
    "\n",
    "looking at only the y aceleration it is 0, meaning the y portion of the tension MUST equal the $F_g$, this also means that the total F_t, is more then the fg\n",
    "\n",
    ">Student 3 correctly derives the equations $F_{net}=Ft(\\frac RL)$ and $Mg = F_t(\\frac {\\sqrt{L^2 -R^2}}{L}) $ to relate the tension force FT to the net force Fnet and the other quantities.\n",
    "\n",
    "(wow thats an interesting derivation, go to topics 'circular pendulum' to see more about it)\n",
    "\n",
    ">(c) Explain how one of the equations can be used to challenge Student 1’s claim.\n",
    "\n",
    "the equasion defining F,net shows that thier is a portion of F_t that is acting as ceteripital\n",
    "\n",
    ">(d) Explain how one of the equations can be used to challenge Student 2’s claim.\n",
    "\n",
    "the equasion defining Mg shows that thier is a part of $F_t$, smaller then $F_t$\n",
    "\n",
    ">The students observe that the radius R increases as the speed v of the sphere\n",
    "increases. Together, they derive the equation\n",
    "$R=v \\sqrt{\\frac Lg}$ to calculate the radius of\n",
    "the circle R followed by the sphere if its speed is v.\n",
    "\n",
    ">(e) Regardless of whether this equation is correct or incorrect, does it plausibly\n",
    "model the students’ observation about the relationship between R and v?\n",
    "Why or why not?\n",
    "\n",
    "this shows a linear relationship between v and R, so if the student observed this relationship as linear, this would be plaisible \n",
    "\n",
    ">(f) This equation does not correctly model the relationship between R and v if\n",
    "v is very fast. Explain why\n",
    "\n",
    "no, R can not eccede the length of the rope, so the acuracy tapers off the higher v gets\n",
    "\n",
    "---"
   ]
  },
  {
   "cell_type": "markdown",
   "metadata": {},
   "source": [
    "# multiple choice problems\n",
    "im doing the ones that took me more then 2 minutes"
   ]
  },
  {
   "cell_type": "markdown",
   "metadata": {},
   "source": [
    "## multiple choice: grav = centerifical\n",
    "\n",
    ">Two satellites are in circular orbits around Earth. Satellite A has speed vA. Satellite B has an orbital radius nine times that of satellite A. What is the speed of satellite B?\n",
    "\n",
    "circular orbit means we use $F = \\frac{mv^2}{r}$ to find force acting inward, this fore is also equal $F =\\frac{G m_1 m_2}{r^2}$ so we plug thse into eachother and use proportional analasis\n",
    "\n",
    "$\\frac{mv^2}{\\cancel{r}}  = \\frac{G m_1 m_2}{r^{\\cancel{2}}} $ \n",
    " \n",
    "  $\\to {mv^2}  =  \\frac{G m_1 m_2}{r} \\to$\n",
    "\n",
    "$ {1v^2}  =  \\frac{(1)(1)(1)}{r} \\to$\n",
    "\n",
    "$v = \\sqrt{\\frac 1r} \\to \\to\\to\\to\\to$ remember we are trying to find a relation $v = \\sqrt \\frac 19$\n",
    "\n",
    "$v = \\frac 13$\n"
   ]
  },
  {
   "cell_type": "markdown",
   "metadata": {},
   "source": [
    "## mult: basic impulse\n",
    "\n",
    ">A 12 kg box sliding on a horizontal floor has an initial speed of 4.0 m/s. The coefficient of friction between the box and the floor is 0.20. The box moves a distance of 4.0 m in 2.0 s. The _magnitude of the change_ in momentum of the box during this time is most nearly\n",
    "\n",
    "thier is a force, acting for 2 seconds (i dont care about the distance because it's not asking for work) this force is $F_f = mg\\mu$ so mag of chage is impulse \n",
    "$\\Delta P = mg\\mu  \\Delta t$ where t is seconds"
   ]
  },
  {
   "cell_type": "markdown",
   "metadata": {},
   "source": [
    "## mult:basic work\n",
    "\n",
    "> A rubber ball with mass 0.20 kg is dropped vertically from a height of 1.5 m above a floor. The ball bounces off of the floor, and during the bounce 0.60 J of energy is dissipated. What is the maximum height of the ball after the bounce?\n",
    "\n",
    "first find the energy, it is all $U_g = mgh =3$ then subtract the .6 then do $\\frac{2.4}{mg}=h$"
   ]
  },
  {
   "cell_type": "markdown",
   "metadata": {},
   "source": [
    "## [unofficial practice material](https://www.crackap.com/ap/physics-1/index.html) \n",
    "#### doing questions from test 1"
   ]
  },
  {
   "cell_type": "markdown",
   "metadata": {},
   "source": [
    "1. > What happens to the force of gravitational attraction between two small objects if the mass of each object is doubled and the distance between their centers is doubled?\n",
    "\n",
    "proportional analasis,\n",
    "$$\n",
    "F_g =  \\frac{G m_1 m_2}{r^2} \\to F_g = \\frac{(1)(2)(2)}{2^2} \\to (F_g)  \\text{change of}   (1)\n",
    "$$\n"
   ]
  },
  {
   "cell_type": "markdown",
   "metadata": {},
   "source": [
    "2. >reminder on slope kinimatics: find time\n",
    "\n",
    "![alt text](images/00507.jpg)\n",
    "\n",
    "well, as we remember form topics, it is goin down at an aceleration $g\\sin(\\theta) = 5$ it is traveling acros the hypotnuse so $\\sin = \\frac oh \\to h = \\frac o{\\sin \\theta}$ = 10\n",
    "\n",
    "now we use $\\Delta x = \\frac 12 at^2 \\to t = \\sqrt{\\frac{\\Delta x 2}{a}}$"
   ]
  },
  {
   "cell_type": "markdown",
   "metadata": {},
   "source": [
    "5. >5. Two satellites are in circular orbit around the Earth. The distance from Satellite 1 to Earth’s center is r1, and the distance from Satellite 2 to the Earth’s center is r2, what is the speed of Satellite 2\n",
    "\n",
    "now THIS is a good proportioal reasoning question, as their are alot of those. but when you look at the awnsers you gain some wierd insight\n",
    "![alt text](<images/Screenshot 2024-05-02 9.25.30 AM.png>) erm... what?\n",
    "\n",
    "what they want you to consider is we are finding the change, the conversion (like of units) that converts one situation to another, it's odd so let's get our head around the rest of the problem first\n",
    "\n",
    "$\\frac{m_1v^2}{\\cancel r} = \\frac{G m_1 m_2}{r^{\\cancel 2}}$ velocity can be found with centerfugal, this is the same as $F_g$ so just plug in\n",
    "\n",
    "$v^2 = \\frac{(1)(1)}{r}$ cancel the R and turn everything that dose not change to 1\n",
    "\n",
    "$v = \\sqrt{\\frac{1}{r}}$ ah, it's an inverse square relationship now, how to turn it to that? \n",
    "\n",
    "ok, here's a thing about conversion try to remember how it ties into unit conversion $$x_2 = x_1 {\\frac{x_{2   \\text{relation}}}{x_{1   \\text{relation}}}}$$\n",
    "seeing text down thier may be odd so let's use v as an example when $v_{\\text{relation} }= r^{- \\frac 12}$\n",
    "\n",
    "\n",
    "$$v_2= v_1 ({\\frac{\\sqrt{\\frac{1}{r_2}}}{\\sqrt{\\frac{1}{r_1}}}} ) \\to \\to v_2= v_1 ({\\frac{r_2}{r_1}} )^{- \\frac 12} \\to \\to v_2= v_1 \\sqrt{{\\frac{r_1}{r_2}}} $$"
   ]
  },
  {
   "cell_type": "markdown",
   "metadata": {},
   "source": [
    "# CrackAP. test 10 q 1\n",
    "lets do this one to Apply what we learned in the question above\n",
    "\n",
    "1. > The Space Shuttle orbits 300 km above Earth’s surface; Earth’s radius is 6,400 km. What is the gravitational acceleration experienced by the Space Shuttle?\n",
    "\n",
    "inital thought \"i didn't memorize the mass of the earth,\" but you don't have to, let's use the problem solving tool we have from the last quesiton\n",
    "$$\n",
    "g_2 = g_1 \\frac {\\frac{\\cancel{Gm_e}}{{r_1}^2}}{\\frac{\\cancel{Gm_e}}{{r_2}^2}}\n",
    "$$\n",
    "now we can flip the two inverses to get $$g\\frac{{r_2}^2}{{r_1}^2} = \\text{awner}$$"
   ]
  },
  {
   "cell_type": "markdown",
   "metadata": {},
   "source": [
    "2. > A person stands on a scale in an elevator. He notices that the scale reading is less than his usual weight. Which of the following could possibly describe the motion of the elevator? (this one got my ngl)\n",
    "\n",
    "A. It is moving downward and slowing down.     :;  this means you have up aceleration, so $F_g < F_n$\n",
    "\n",
    "B. It is moving upward and slowing down.         :; this means you have down aceleration, so $F_g > F_n$\n",
    "\n",
    "C. It is moving upward at a constant speed.  :; if speed is const then $F_{net} = 0$ ∴ $F_g = F_n$\n",
    "\n",
    "D. It is moving downward at a constant speed. :;if speed is const then $F_{net} = 0\\therefore F_g = F_n$"
   ]
  },
  {
   "cell_type": "markdown",
   "metadata": {},
   "source": [
    "## systems & sets \n",
    "\n",
    "![alt text](<images/Screenshot 2024-05-02 11.24.49 AM.png>)\n",
    "> A 0.5 kg cart begins at rest at the top of an incline, 0.06 m vertically above its end position. It is released and allowed to travel down the smooth incline, where it compresses a spring. Between the positions labeled \"Begin\" and \"End\" in the figure, the work done on the cart by the earth is 0.30 J; the work done on the cart by the spring is –0.20 J. What is the cart’s kinetic energy at the position labeled \"End\"?\n",
    "\n",
    "A. 0.80 J no\n",
    "B. 0.10 J ///\n",
    "C. 0.50 J no\n",
    "D. 0.40 J no\n",
    "\n",
    "this one is easy but let's talk about sets & systems using this as an exmaple.\n",
    "\n",
    "keep in mind for any group of 3 items their are 7 different systems, each one has it's own energy in kinetic and possibly potential\n",
    "\n",
    "{block}, kinetic\n",
    "\n",
    "{earth} GPE\n",
    "\n",
    "{spring} spring potential\n",
    "\n",
    "so for only the block all we care about is it's movment, not height, nothing else.\n"
   ]
  },
  {
   "cell_type": "markdown",
   "metadata": {},
   "source": []
  }
 ],
 "metadata": {
  "kernelspec": {
   "display_name": "Python 3",
   "language": "python",
   "name": "python3"
  },
  "language_info": {
   "codemirror_mode": {
    "name": "ipython",
    "version": 3
   },
   "file_extension": ".py",
   "mimetype": "text/x-python",
   "name": "python",
   "nbconvert_exporter": "python",
   "pygments_lexer": "ipython3",
   "version": "3.10.11"
  }
 },
 "nbformat": 4,
 "nbformat_minor": 2
}
