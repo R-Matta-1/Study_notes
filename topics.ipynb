{
 "cells": [
  {
   "cell_type": "markdown",
   "metadata": {},
   "source": [
    "## centripital\n",
    " also known as $F = \\frac{mv^2}{r}$ also known as 'the other circular motion'\n",
    "\n",
    "![alt text](images/Oscillating_pendulum.gif)\n",
    "question, at the bottom, what forcer are acting? which is stronger? how do you know?\n",
    "\n",
    "at bottom, v has to go up, so a is up, only forces are $F_t$ and $F_g$? So $F_t$ must be more, on the top they are both acting down, \n",
    "\n",
    "---"
   ]
  },
  {
   "cell_type": "markdown",
   "metadata": {},
   "source": [
    "# deriving \n",
    "these problems tell you to \"make a formula to find\" somthing using somthing else, \n",
    "\n",
    "- if it dose ask for \"max height\" or \"no velocity\" it's probably derived from the energy\n",
    "- triangle stuff, remember the angle of the string is the angle of the force it gives, so it's scaling like that, \n"
   ]
  },
  {
   "cell_type": "markdown",
   "metadata": {},
   "source": [
    "# things\n",
    "- force over a certian distance is work ,  if you see a spring it's ***probably*** a work problem\n",
    "\n",
    "- force over a certian time is momentum, if you see a collision is a momentum problem (elastic means conserved conetic aswell)\n",
    "\n",
    "- {this is the positive direction} pay atention to that\n",
    "---"
   ]
  },
  {
   "cell_type": "markdown",
   "metadata": {},
   "source": [
    "##  spring\n",
    " the potental energy of a spring is $U=\\frac{1}{2} k  \\Delta x^{2}$ (you can remember this as \"square the vector makes it scaler\")\n",
    " the force applied by a spring is $F_s = xk$\n",
    " \n",
    " now, some interesting problem solving;\n",
    " if thier is a spring hanging NOT MOVING, (or moving and you know the center point)\n",
    "\n",
    "as discovered by Justin (thanks justin) $$\\Sigma F=0 = F_s+F_g \\to \\to \\to \\to mg = kx$$\n",
    "the more g, the lower it's hanging\n",
    "\n",
    " ---"
   ]
  },
  {
   "cell_type": "markdown",
   "metadata": {
    "vscode": {
     "languageId": "makefile"
    }
   },
   "source": [
    "## ossolation, period, and factors involved, \n",
    ">good to have a solid intuition of.\n",
    "\n",
    "$T_s = 2 \\pi \\sqrt{\\frac{m}{k}}$ (refering to a spring)\n",
    "\n",
    "### pendulum\n",
    "$T_p = 2 \\pi \\sqrt{\\frac{l}{g}}$ (refering to a pendulum)\n",
    "\n",
    "what do these functions tell you about the effect these values have on period?\n",
    "\n",
    "note period is not freqeuncy, more about this in 'inverting' but the unit for $T$ perid is $f = T^{-1}$ and $T = f^{-1}$ where f is frequency\n",
    "\n",
    "\n",
    "---"
   ]
  },
  {
   "cell_type": "markdown",
   "metadata": {},
   "source": [
    "#### pt & vt & at \n",
    "they often make you look at a graph then say things.\n",
    "\n",
    "the slope of pt -> vt\n",
    "\n",
    "the slope of vt -> at\n",
    "\n",
    "if at is constant pt is parabolic (make a parabola)\n",
    "\n",
    "---"
   ]
  },
  {
   "cell_type": "markdown",
   "metadata": {},
   "source": [
    "## inverting\n",
    "this is most common in frequency and period, or the odd way some questoins try to tell you spring constant.\n",
    "\n",
    "lets use beats per second as an example \n",
    "\n",
    "\n",
    "###  inverting ($\\frac{b}{s} \\to \\frac{s}{b}$)  to have **half** as much *beats* in one **second** $f$, means twice the **seconds** inbetween ~~*beets*~~ $\\to$ ossilations $T_p$\n",
    "---"
   ]
  },
  {
   "cell_type": "markdown",
   "metadata": {},
   "source": []
  },
  {
   "cell_type": "markdown",
   "metadata": {
    "vscode": {
     "languageId": "plaintext"
    }
   },
   "source": [
    "# slope motion\n",
    "\n",
    "thier's nothing to explain, remember when we spent like a month on this image? this was like in october,\n",
    "![alt text](images/slopePhys.jpg)\n",
    "\n",
    "- steeper = faster,\n",
    "\n",
    "- no friction/ low $\\mu$  = faster\n",
    "\n",
    "- 'maximum possible friction' is $ mg \\sin\\theta $  (because it can't bring us backwards)\n",
    "\n",
    "- however, it is calculated using $F_f = F_n \\mu = \\mu mg  \\cos\\theta$\n",
    "\n",
    "- this is because it is $F_n = mg \\cos \\theta $\n",
    "\n",
    "---"
   ]
  },
  {
   "cell_type": "markdown",
   "metadata": {},
   "source": [
    "# attwood jumpscare !💀!\n",
    "\n",
    "![alt text](<images/Screenshot 2024-04-25 9.21.36 AM.png>)\n",
    "\n",
    "let's seperate this into 3 parts. intuition, the boxes, the total system/Tension\n",
    "\n",
    "our intuition is formed by our math so lets to that last\n",
    "\n",
    "## finding acceleration, tension, mass, gravity\n",
    "1. acceleration\n",
    "let's look at the formula then explain it\n",
    "\n",
    "[IMG]\n",
    "$$\n",
    "\\Sigma F = g {(m_1-m_2)}\\to \\to \\to \\to\\Sigma a = g \\frac{m_1 - m_2}{m_1 + m_2} \n",
    "$$\n",
    "this is explainable through $F  = ma \\to a = \\frac{F}{m}$\n",
    "the force has an acceleration of g, and a mass of $m_1-m_2$\n",
    "then you divide that by the total mass\n",
    "2. tension\n",
    "if we know the acceleration (and only tension and wieght are acting) we know the tension then for each wieght is\n",
    "\n",
    "$\\Sigma F = F_g + F_t   \\to$\n",
    "\n",
    "$   F_t = \\Sigma F - F_g \\to$\n",
    "\n",
    "\n",
    "### what if thier is another block?\n",
    "\n",
    "![alt text](images/Screenshot_20240428-112954_YouTube.jpg)\n",
    "\n",
    "$ F_t =  m a_{total} - mg$\n",
    "\n",
    "#### intuition (informed by math)\n",
    "[hey, this guy get's it](https://www.physicsforums.com/threads/intuitive-explanation-of-an-atwood-machine.885117/)\n",
    "- The tensions on both sides of the pulley are equal.\n",
    "- honestly that guy in the link got this.\n",
    "\n",
    "\n",
    "---\n"
   ]
  },
  {
   "cell_type": "markdown",
   "metadata": {},
   "source": [
    "# when pigs fly machine\n",
    "\n",
    "![alt text](<images/Screenshot 2024-04-28 204932.png>)\n",
    "\n",
    "alright, every force acting, then get into specifics\n",
    "\n",
    "1. $F_g = mg$ in the straight downward direction,\n",
    "2. $F_t$ seperated into X and y\n",
    "    1.  $F_tx =$ the centerfugal that is $\\frac{mv^2}r$\n",
    "    2. $F_ty = mg$ upward\n",
    "ps, the angle of the string is same as angle of force of tension\n",
    "\n",
    "### deriving the values fg and f_net with trig\n",
    "\n",
    " $F_{net}=Ft(\\frac RL)$ and $Mg = F_t(\\frac {\\sqrt{L^2 -R^2}}{L}) $ show this, but how did we get these without seeing cos sin or tan, we know thier involved because we are multiplying by the hypotnuse $F_t$\n",
    "\n",
    " ![alt text](<images/Screenshot 2024-04-29 10.30.47 AM.png>)\n",
    "\n",
    " we know that the angles are the same but the scale is not, so for finding f_net we would need \n",
    " \n",
    " $F_t sin(\\theta) =  F_{tx}$\n",
    "\n",
    " then we find the angle using $\\sin^{-1}$\n",
    "\n",
    " $\\theta = \\sin^{-1}(\\frac{R}{L})$ then we plug in for theta\n",
    " \n",
    "$F_{tx} =F_t \\sin(\\sin^{-1}(\\frac{R}{L})) $ then we cancel\n",
    "\n",
    "$F_{tx} =F_t \\cancel{\\sin(\\sin^{-1}}(\\frac{R}{L})) $ \n",
    "\n",
    "$F_{tx} =F_t (\\frac{R}{L}) $ \n",
    "\n",
    "#### $Mg = F_t(\\frac {\\sqrt{L^2 -R^2}}{L}) $\n",
    "we know Mg is $F_{ty}$, we are doing the exact same thing but using $\\cos = \\frac ah$ instead of $\\sin = \\frac oh$ we find ajecent angle however, using $b = \\sqrt{a^2 - c^2}$\n",
    "\n",
    "\n",
    "---\n"
   ]
  },
  {
   "cell_type": "markdown",
   "metadata": {},
   "source": [
    "# proportional analasis\n",
    "\n",
    "thier are 3 ways of doing this all derived from $x_2 = x_1 \\frac {x_2}{x_1}$ but let's go from the way we learned it to somthing more substantial\n",
    "\n",
    "### the arrows, \n",
    "easy $P = mv$ to say m is inverse to v you do a $\\frac{\\underline P}{\\uparrow m} =  \\downarrow v $ this dosen't work well with squares or more complex equations and can't be used to awnser more complex quesitons like \"CrackAP. test 10 q 1\" in questions.ipynb \n",
    "\n",
    "### solve then constant to 1\n",
    "this method has some good practicality for bigger equations like $\\frac{mv^2}{r} = \\frac{G m_1 m_2}{r^2}$ which ive mentioned alot, as an example let's find relation of velocity in terms of change in r\n",
    "$$\n",
    "\\frac{mv^2}{r} = \\frac{G m_1 m_2}{r^2} \\to \\to v^2 = \\frac{G  m_2}{r} \\to \\to v = \\sqrt{\\frac{(1)(1)}{r}}\n",
    "$$\n",
    "### ratio\n",
    "\n",
    "the last rule of (constants to 1) comes from a ratio of change, used in conversion $x_2 = x_1 \\frac {x_2}{x_1}$\n",
    "\n",
    "this can be used to find values from others like in \"CrackAP. test 10 q 1\"\n",
    "$$\n",
    "g_2 = g_1 \\frac {\\frac{\\cancel{Gm_e}}{{r_1}^2}}{\\frac{\\cancel{Gm_e}}{{r_2}^2}}\n",
    "$$\n",
    "now we can flip the two inverses to get $$g_1\\frac{{r_2}^2}{{r_1}^2} = \\text{new g if radius changes}$$"
   ]
  },
  {
   "cell_type": "markdown",
   "metadata": {},
   "source": [
    "# $\\omega \\Omega \\zeta \\beta \\gamma \\delta \\epsilon$"
   ]
  },
  {
   "cell_type": "markdown",
   "metadata": {},
   "source": []
  }
 ],
 "metadata": {
  "language_info": {
   "name": "python"
  }
 },
 "nbformat": 4,
 "nbformat_minor": 2
}
