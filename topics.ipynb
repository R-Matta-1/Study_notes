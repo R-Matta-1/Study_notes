{
 "cells": [
  {
   "cell_type": "markdown",
   "metadata": {},
   "source": [
    "## centerfugal (only lesson thats only one equasion) \n",
    " also known as $F = \\frac{mv^2}{r}$ also known as 'the other circular motion'\n",
    "\n",
    "![alt text](images/Oscillating_pendulum.gif)\n",
    "question, at the bottom, what forcer are acting? which is stronger? how do you know?\n",
    "\n",
    "at bottom, v has to go up, so a is up, only forces are $F_t$ and $F_g$? So $F_t$ must be more, on the top they are both acting down, \n",
    "\n",
    "---"
   ]
  },
  {
   "cell_type": "markdown",
   "metadata": {},
   "source": [
    "# things\n",
    "- force over a certian distance is work ,  if you see a spring it's ***probably*** a work problem\n",
    "\n",
    "- force over a certian time is momentum, if you see a collision is a momentum problem (elastic means conserved conetic aswell)\n",
    "\n",
    "- {this is the positive direction} pay atention to that\n",
    "---"
   ]
  },
  {
   "cell_type": "markdown",
   "metadata": {},
   "source": [
    "##  spring\n",
    " the potental energy of a spring is $U=\\frac{1}{2} k  \\Delta x^{2}$ (you can remember this as \"square the vector makes it scaler\")\n",
    " the force applied by a spring is $F_s = xk$\n",
    " \n",
    " now, some interesting problem solving;\n",
    " if thier is a spring hanging NOT MOVING, (or moving and you know the center point)\n",
    "\n",
    "as discovered by Justin (thanks justin) $$\\Sigma F=0 = F_s+F_g \\to \\to \\to \\to mg = kx$$\n",
    "the more g, the lower it's hanging\n",
    "\n",
    " ---"
   ]
  },
  {
   "cell_type": "markdown",
   "metadata": {
    "vscode": {
     "languageId": "makefile"
    }
   },
   "source": [
    "## ossolation, period, and factors involved, \n",
    ">good to have a solid intuition of.\n",
    "\n",
    "$T_s = 2 \\pi \\sqrt{\\frac{m}{k}}$ (refering to a spring)\n",
    "\n",
    "### pendulum\n",
    "$T_p = 2 \\pi \\sqrt{\\frac{l}{g}}$ (refering to a pendulum)\n",
    "\n",
    "what do these functions tell you about the effect these values have on period?\n",
    "\n",
    "note period is not freqeuncy, more about this in 'inverting' but the unit for $T$ perid is $f = T^{-1}$ and $T = f^{-1}$ where f is frequency\n",
    "\n",
    "\n",
    "---"
   ]
  },
  {
   "cell_type": "markdown",
   "metadata": {},
   "source": [
    "#### pt & vt & at \n",
    "they often make you look at a graph then say things.\n",
    "\n",
    "the slope of pt -> vt\n",
    "\n",
    "the slope of vt -> at\n",
    "\n",
    "if at is constant pt is parabolic (make a parabola)\n",
    "\n",
    "---"
   ]
  },
  {
   "cell_type": "markdown",
   "metadata": {},
   "source": [
    "## inverting\n",
    "this is most common in frequency and period, or the odd way some questoins try to tell you spring constant.\n",
    "\n",
    "lets use beats per second as an example \n",
    "\n",
    "\n",
    "###  inverting ($\\frac{b}{s} \\to \\frac{s}{b}$)  to have **half** as much *beats* in one **second** $f$, means twice the **seconds** inbetween ~~*beets*~~ $\\to$ ossilations $T_p$\n",
    "---"
   ]
  },
  {
   "cell_type": "markdown",
   "metadata": {},
   "source": []
  },
  {
   "cell_type": "markdown",
   "metadata": {
    "vscode": {
     "languageId": "plaintext"
    }
   },
   "source": [
    "# slope motion\n",
    "\n",
    "thier's nothing to explain, remember when we spent like a month on this image? this was like in october\n",
    "![alt text](images/slopePhys.jpg)\n",
    "\n",
    "- steeper = faster,\n",
    "\n",
    "- no friction/ low $\\mu$  = faster\n",
    "\n",
    "- 'maximum possible friction' is $ mg \\sin\\theta $  (because it can't bring us backwards)\n",
    "\n",
    "- however, it is calculated using $F_f = F_n \\mu = \\mu mg  \\cos\\theta$\n",
    "\n",
    "- this is because it is $F_n = mg \\cos \\theta $\n",
    "\n",
    "---"
   ]
  },
  {
   "cell_type": "markdown",
   "metadata": {},
   "source": [
    "# attwood jumpscare !💀!\n",
    "\n",
    "![alt text](<images/Screenshot 2024-04-25 9.21.36 AM.png>)\n",
    "\n",
    "let's seperate this into 3 parts. intuition, the boxes, the total system/Tension\n",
    "\n",
    "our intuition is formed by our math so lets to that last\n",
    "\n",
    "## finding acceleration, tension, mass, gravity\n",
    "1. acceleration\n",
    "let's look at the formula then explain it\n",
    "\n",
    "[IMG]\n",
    "$$\n",
    "\\Sigma F = g {(m_1-m_2)}\\to \\to \\to \\to\\Sigma a = g \\frac{m_1 - m_2}{m_1 + m_2} \n",
    "$$\n",
    "this is explainable through $F  = ma \\to a = \\frac{F}{m}$\n",
    "the force has an acceleration of g, and a mass of $m_1-m_2$\n",
    "then you divide that by the total mass\n",
    "2. tension\n",
    "if we know the acceleration (and only tension and wieght are acting) we know the tension then for each wieght is\n",
    "\n",
    "$\\Sigma F = F_g + F_t   \\to$\n",
    "\n",
    "$   F_t = \\Sigma F - F_g \\to$\n",
    "\n",
    "\n",
    "### what if thier is another block?\n",
    "\n",
    "![alt text](images/Screenshot_20240428-112954_YouTube.jpg)\n",
    "\n",
    "$ F_t =  m a_{total} - mg$\n",
    "## intuition (informed by math)\n",
    "[hey, this guy get's it](https://www.physicsforums.com/threads/intuitive-explanation-of-an-atwood-machine.885117/)\n",
    "- The tensions on both sides of the pulley are equal.\n",
    "- honestly that guy in the link got this.\n",
    "\n"
   ]
  },
  {
   "cell_type": "markdown",
   "metadata": {},
   "source": [
    "# when pigs fly machine\n",
    "\n",
    "![alt text](<images/Screenshot 2024-04-28 204932.png>)\n",
    "\n",
    "alright, every force acting, then get into specifics\n",
    "\n",
    "1. $F_g = mg$ in the straight downward direction,\n",
    "2. $F_t$ seperated into X and y\n",
    "    1.  $F_tx =$ the centerfugal that is $\\frac{mv^2}r$\n",
    "    2. $F_ty = mg$ upward\n",
    "ps, the angle of the string is same as angle of force of tension"
   ]
  },
  {
   "cell_type": "markdown",
   "metadata": {},
   "source": []
  }
 ],
 "metadata": {
  "language_info": {
   "name": "python"
  }
 },
 "nbformat": 4,
 "nbformat_minor": 2
}
