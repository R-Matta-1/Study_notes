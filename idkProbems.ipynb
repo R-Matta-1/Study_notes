{
 "cells": [
  {
   "cell_type": "markdown",
   "metadata": {},
   "source": [
    "![Screenshot 2024-04-28 204932.png](<images/Screenshot 2024-05-05 151312.png>)\n",
    "\n",
    "> While the blocks are accelerating, the tension in the vertical portion of the string is T1 . Next, the pulley of\n",
    "negligible mass is replaced with a second pulley whose mass is not negligible. When the blocks are\n",
    "accelerating in this scenario, the tension in the vertical portion of the string is T2 . How do the two\n",
    "tensions compare to each other?\n",
    "\n",
    "____ $T_2 > T_1$ ____  $T_2 = T_1$ ____ $T_2 < T_1$ \n",
    "Briefly explain your reasoning.\n",
    "\n",
    "\n",
    "Correct answer: $T_2 > T_1$\n",
    "\n",
    "but why? \n",
    "\n",
    "1. initally it's probably equal to Fg, then after what? it lowers aceleration? this means it has more force?"
   ]
  },
  {
   "cell_type": "markdown",
   "metadata": {},
   "source": []
  }
 ],
 "metadata": {
  "language_info": {
   "name": "python"
  }
 },
 "nbformat": 4,
 "nbformat_minor": 2
}
